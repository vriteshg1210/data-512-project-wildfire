{
  "cells": [
    {
      "cell_type": "markdown",
      "metadata": {
        "tags": [],
        "id": "mxKTtUh0QL9j"
      },
      "source": [
        "# US EPA Air Quality System API Example\n",
        "We have used this notebook to request data from the US Environmental Protection Agency (EPA) Air Quality Service (AQS) API. This is a historical API and does not provide real-time air quality data. The [documentation](https://aqs.epa.gov/aqsweb/documents/data_api.html) for the API provides definitions of the different call parameter and examples of the various calls that can be made to the API.\n",
        "\n",
        "This notebook works systematically through the calls, requesting an API key, using 'list' to get various IDs and parameter values, and using 'daily summary' to get summary data that meets specific condistions. The notebook contains function definitions that could be reused in other code. In general, the notebook explains each step along the way, referring back to possible output.\n",
        "\n",
        "The US EPA was created in the early 1970's. The EPA reports that they only started broad based monitoring with standardized quality assurance procedures in the 1980's. Many counties will have data starting somewhere between 1983 and 1988. However, some counties still do not have any air quality monitoring stations. The API helps resolve this by providing calls to search for monitoring stations and data using either station ids, or a county designation or a geographic bounding box. This code provides examples of the county based and bounding box based API calls. Some [additional information on the Air Quality System can be found in the EPA FAQ](https://www.epa.gov/outdoor-air-quality-data/frequent-questions-about-airdata) on the system.\n",
        "\n",
        "The end goal of this example is to get to some values that we might use for the Air Quality Index or AQI. You might see this reported on the news, most often around smog, but more frequently with regard to smoke. The AQI index is meant to tell us something about how healthy or clean the air is on any day. The AQI is actually a somewhat complext measure. I want to get these values for Klamath Falls, Oregon.\n",
        "\n",
        "\n",
        "## License\n",
        "This code example was developed by Dr. David W. McDonald for use in DATA 512, a course in the UW MS Data Science degree program. This code is provided under the [Creative Commons](https://creativecommons.org) [CC-BY license](https://creativecommons.org/licenses/by/4.0/). Revision 1.1 - September 5, 2023\n",
        "\n"
      ]
    },
    {
      "cell_type": "markdown",
      "source": [
        "To start our analysis, we would first download the needed python libraries."
      ],
      "metadata": {
        "id": "k0Ug2aYIvlPl"
      }
    },
    {
      "cell_type": "code",
      "execution_count": 1,
      "metadata": {
        "tags": [],
        "id": "3iL6OS52QL9o"
      },
      "outputs": [],
      "source": [
        "#    These are standard python modules\n",
        "import json, time\n",
        "#\n",
        "#The 'requests' module is a distribution module for making web requests.\n",
        "#\n",
        "import requests"
      ]
    },
    {
      "cell_type": "code",
      "execution_count": 2,
      "metadata": {
        "tags": [],
        "id": "6TDn5gpmQL9r"
      },
      "outputs": [],
      "source": [
        "#    CONSTANTS\n",
        "#\n",
        "\n",
        "#\n",
        "#    This is the root of all AQS API URLs\n",
        "#\n",
        "API_REQUEST_URL = 'https://aqs.epa.gov/data/api'\n",
        "\n",
        "#\n",
        "#    These are 'actions' we can ask the API to take or requests that we can make of the API\n",
        "#\n",
        "#    Sign-up request - generally only performed once - unless you lose your key\n",
        "API_ACTION_SIGNUP = '/signup?email={email}'\n",
        "#\n",
        "#    List actions provide information on API parameter values that are required by some other actions/requests\n",
        "API_ACTION_LIST_CLASSES = '/list/classes?email={email}&key={key}'\n",
        "API_ACTION_LIST_PARAMS = '/list/parametersByClass?email={email}&key={key}&pc={pclass}'\n",
        "API_ACTION_LIST_SITES = '/list/sitesByCounty?email={email}&key={key}&state={state}&county={county}'\n",
        "#\n",
        "#    Monitor actions are requests for monitoring stations that meet specific criteria\n",
        "API_ACTION_MONITORS_COUNTY = '/monitors/byCounty?email={email}&key={key}&param={param}&bdate={begin_date}&edate={end_date}&state={state}&county={county}'\n",
        "API_ACTION_MONITORS_BOX = '/monitors/byBox?email={email}&key={key}&param={param}&bdate={begin_date}&edate={end_date}&minlat={minlat}&maxlat={maxlat}&minlon={minlon}&maxlon={maxlon}'\n",
        "#\n",
        "#    Summary actions are requests for summary data. These are for daily summaries\n",
        "API_ACTION_DAILY_SUMMARY_COUNTY = '/dailyData/byCounty?email={email}&key={key}&param={param}&bdate={begin_date}&edate={end_date}&state={state}&county={county}'\n",
        "API_ACTION_DAILY_SUMMARY_BOX = '/dailyData/byBox?email={email}&key={key}&param={param}&bdate={begin_date}&edate={end_date}&minlat={minlat}&maxlat={maxlat}&minlon={minlon}&maxlon={maxlon}'\n",
        "#\n",
        "#    It is always nice to be respectful of a free data resource.\n",
        "#    We're going to observe a 100 requests per minute limit - which is fairly nice\n",
        "API_LATENCY_ASSUMED = 0.002       # Assuming roughly 2ms latency on the API and network\n",
        "API_THROTTLE_WAIT = (1.0/100.0)-API_LATENCY_ASSUMED\n",
        "#\n",
        "#\n",
        "#    This is a template that covers most of the parameters for the actions we might take, from the set of actions\n",
        "#    above. In the examples below, most of the time parameters can either be supplied as individual values to a\n",
        "#    function - or they can be set in a copy of the template and passed in with the template.\n",
        "#\n",
        "AQS_REQUEST_TEMPLATE = {\n",
        "    \"email\":      \"\",\n",
        "    \"key\":        \"\",\n",
        "    \"state\":      \"\",     # the two digit state FIPS # as a string\n",
        "    \"county\":     \"\",     # the three digit county FIPS # as a string\n",
        "    \"begin_date\": \"\",     # the start of a time window in YYYYMMDD format\n",
        "    \"end_date\":   \"\",     # the end of a time window in YYYYMMDD format, begin_date and end_date must be in the same year\n",
        "    \"minlat\":    0.0,\n",
        "    \"maxlat\":    0.0,\n",
        "    \"minlon\":    0.0,\n",
        "    \"maxlon\":    0.0,\n",
        "    \"param\":     \"\",     # a list of comma separated 5 digit codes, max 5 codes requested\n",
        "    \"pclass\":    \"\"      # parameter class is only used by the List calls\n",
        "}\n",
        "\n"
      ]
    },
    {
      "cell_type": "markdown",
      "metadata": {
        "id": "UDGFAybAQL9r"
      },
      "source": [
        "## 1. Making a sign-up request\n",
        "\n",
        "Before you can use the API you need to request a key. I used my email address to make the request. The EPA then sends a confirmation email link and a 'key' that I use for all other requests.\n",
        "\n",
        "You only need to sign-up once, unless you want to invalidate your current key (by getting a new key) or you lose your key.\n"
      ]
    },
    {
      "cell_type": "code",
      "execution_count": 3,
      "metadata": {
        "tags": [],
        "id": "FYHl0PRyQL9s"
      },
      "outputs": [],
      "source": [
        "#\n",
        "#    This implements the sign-up request. The parameters are standardized so that this function definition matches\n",
        "#    all of the others. However, the easiest way to call this is to simply call this function with your preferred\n",
        "#    email address.\n",
        "#\n",
        "def request_signup(email_address = None,\n",
        "                   endpoint_url = API_REQUEST_URL,\n",
        "                   endpoint_action = API_ACTION_SIGNUP,\n",
        "                   request_template = AQS_REQUEST_TEMPLATE,\n",
        "                   headers = None):\n",
        "\n",
        "    # Make sure we have a string - if you don't have access to this email addres, things might go badly for you\n",
        "    if email_address:\n",
        "        request_template['email'] = email_address\n",
        "    if not request_template['email']:\n",
        "        raise Exception(\"Must supply an email address to call 'request_signup()'\")\n",
        "\n",
        "    # Compose the signup url - create a request URL by combining the endpoint_url with the parameters for the request\n",
        "    request_url = endpoint_url+endpoint_action.format(**request_template)\n",
        "\n",
        "    # make the request\n",
        "    try:\n",
        "        # Wait first, to make sure we don't exceed a rate limit in the situation where an exception occurs\n",
        "        # during the request processing - throttling is always a good practice with a free data source\n",
        "        if API_THROTTLE_WAIT > 0.0:\n",
        "            time.sleep(API_THROTTLE_WAIT)\n",
        "        response = requests.get(request_url, headers=headers)\n",
        "        json_response = response.json()\n",
        "    except Exception as e:\n",
        "        print(e)\n",
        "        json_response = None\n",
        "    return json_response\n",
        "\n",
        "\n"
      ]
    },
    {
      "cell_type": "code",
      "execution_count": 4,
      "metadata": {
        "id": "pTjm_8kYQL9t",
        "outputId": "79d98734-5a56-4712-c73f-26d524a2a41c",
        "colab": {
          "base_uri": "https://localhost:8080/"
        }
      },
      "outputs": [
        {
          "output_type": "stream",
          "name": "stdout",
          "text": [
            "Requesting SIGNUP ...\n",
            "{\n",
            "    \"Header\": [\n",
            "        {\n",
            "            \"status\": \"Success\",\n",
            "            \"request_time\": \"2023-11-09T03:00:49-05:00\",\n",
            "            \"url\": \"https://aqs.epa.gov/data/api/signup?email=vriteshg@uw.edu\"\n",
            "        }\n",
            "    ],\n",
            "    \"Data\": [\n",
            "        \"You should receive an email containing your new key shortly.\"\n",
            "    ]\n",
            "}\n"
          ]
        }
      ],
      "source": [
        "#\n",
        "#    A SIGNUP request is only to be done once, to request a key. A key is sent to that email address and needs to be confirmed with a click through\n",
        "#    This code should probably be commented out after you've made your key request to make sure you don't accidentally make a new sign-up request\n",
        "#\n",
        "print(\"Requesting SIGNUP ...\")\n",
        "response = request_signup(\"vriteshg@uw.edu\")\n",
        "print(json.dumps(response,indent=4))\n",
        "#"
      ]
    },
    {
      "cell_type": "markdown",
      "metadata": {
        "id": "bZz--L1rQL9u"
      },
      "source": [
        "A response to the signup request might look something like this.\n",
        "\n",
        "\n",
        "    Requesting SIGNUP ...\n",
        "    {\n",
        "        \"Header\": [\n",
        "            {\n",
        "                \"status\": \"Success\",\n",
        "                \"request_time\": \"2023-08-07T17:03:27-04:00\",\n",
        "                \"url\": \"https://aqs.epa.gov/data/api/signup?email=dwmc@uw.edu\"\n",
        "            }\n",
        "        ],\n",
        "        \"Data\": [\n",
        "            \"You should receive a registration confirmation email with a link for confirming your email shortly.\"\n",
        "        ]\n",
        "    }\n",
        "\n"
      ]
    },
    {
      "cell_type": "markdown",
      "metadata": {
        "id": "xnsf9pE6QL9u"
      },
      "source": [
        "**Note:** The code below relies on a user module called apikeys that is a key manager. You don't need that to make this code work. You can use the email you used for your sign-up request and the key that you got in email. Assign your email address to \"USERNAME\" and your key to \"APIKEY\" as constants and the remaining cells in the notbook should work."
      ]
    },
    {
      "cell_type": "code",
      "execution_count": 5,
      "metadata": {
        "id": "YX3HLEHtQL9v"
      },
      "outputs": [],
      "source": [
        "#   Once we have the signup email, we can define two constants\n",
        "#   USERNAME - This should be the email address you sent the EPA asking for access to the API during sign-up\n",
        "#   APIKEY   - This should be the authorization key they sent you\n",
        "\n",
        "USERNAME = \"vriteshg@uw.edu\"\n",
        "APIKEY = 'xxx'\n"
      ]
    },
    {
      "cell_type": "markdown",
      "metadata": {
        "id": "Ow-MEtamQL9w"
      },
      "source": [
        "## 2. Making a list request\n",
        "Once you have a key, the next thing is to get information about the different types of air quality monitoring (sensors) and the different places where we might find air quality stations. The monitoring system is complex and changes all the time. The EPA implementation allows an API user to find changes to monitoring sites and sensors by making requests - maybe monthly, or daily. This API approach is probably better than having the EPA publish documentation that may be out of date as soon as it hits a web page. The one problem here is that some of the responses rely on jargon or terms-of-art. That is, one needs to know a bit about the way atmospheric sciece works to understand some of the terms. ... Good thing we can use the web to search for terms we don't know!"
      ]
    },
    {
      "cell_type": "code",
      "execution_count": 6,
      "metadata": {
        "id": "yWXCHuBkQL9w"
      },
      "outputs": [],
      "source": [
        "#\n",
        "#    This implements the list request. There are several versions of the list request that only require email and key.\n",
        "#    This code sets the default action/requests to list the groups or parameter class descriptors. Having those descriptors\n",
        "#    allows one to request the individual (proprietary) 5 digit codes for individual air quality measures by using the\n",
        "#    param request. Some code in later cells will illustrate those requests.\n",
        "#\n",
        "def request_list_info(email_address = None, key = None,\n",
        "                      endpoint_url = API_REQUEST_URL,\n",
        "                      endpoint_action = API_ACTION_LIST_CLASSES,\n",
        "                      request_template = AQS_REQUEST_TEMPLATE,\n",
        "                      headers = None):\n",
        "\n",
        "    #  This prioritizes the info from the call parameters - not what's already in the template\n",
        "    if email_address:\n",
        "        request_template['email'] = email_address\n",
        "    if key:\n",
        "        request_template['key'] = key\n",
        "\n",
        "    # For the basic request we need an email address and a key\n",
        "    if not request_template['email']:\n",
        "        raise Exception(\"Must supply an email address to call 'request_list_info()'\")\n",
        "    if not request_template['key']:\n",
        "        raise Exception(\"Must supply a key to call 'request_list_info()'\")\n",
        "\n",
        "    # compose the request\n",
        "    request_url = endpoint_url+endpoint_action.format(**request_template)\n",
        "\n",
        "    # make the request\n",
        "    try:\n",
        "        # Wait first, to make sure we don't exceed a rate limit in the situation where an exception occurs\n",
        "        # during the request processing - throttling is always a good practice with a free data source\n",
        "        if API_THROTTLE_WAIT > 0.0:\n",
        "            time.sleep(API_THROTTLE_WAIT)\n",
        "        response = requests.get(request_url, headers=headers)\n",
        "        json_response = response.json()\n",
        "    except Exception as e:\n",
        "        print(e)\n",
        "        json_response = None\n",
        "    return json_response\n",
        "\n"
      ]
    },
    {
      "cell_type": "code",
      "execution_count": 7,
      "metadata": {
        "collapsed": true,
        "jupyter": {
          "outputs_hidden": true
        },
        "id": "j5YMcV_7QL9w",
        "outputId": "34a13cee-2166-40b3-9a4b-2c886206576f",
        "colab": {
          "base_uri": "https://localhost:8080/"
        }
      },
      "outputs": [
        {
          "output_type": "stream",
          "name": "stdout",
          "text": [
            "{\n",
            "    \"Header\": [\n",
            "        {\n",
            "            \"status\": \"Failed\",\n",
            "            \"request_time\": \"2023-11-09T03:00:50.079-05:00\",\n",
            "            \"url\": \"https://aqs.epa.gov/data/api/list/classes?email=vriteshg@uw.edu&key=xxx\",\n",
            "            \"error\": [\n",
            "                \"Email and/or key are invalid.\"\n",
            "            ]\n",
            "        }\n",
            "    ]\n",
            "}\n"
          ]
        }
      ],
      "source": [
        "#\n",
        "#   The default should get us a list of the various groups or classes of sensors. These classes are user defined names for clustors of\n",
        "#   sensors that might be part of a package or default air quality sensing station. We need a class name to start getting down to the\n",
        "#   a sensor ID. Each sensor type has an ID number. We'll eventually need those ID numbers to be able to request values that come from\n",
        "#   that specific sensor.\n",
        "#\n",
        "request_data = AQS_REQUEST_TEMPLATE.copy()\n",
        "request_data['email'] = USERNAME\n",
        "request_data['key'] = APIKEY\n",
        "\n",
        "response = request_list_info(request_template=request_data)\n",
        "\n",
        "if response[\"Header\"][0]['status'] == \"Success\":\n",
        "    print(json.dumps(response['Data'],indent=4))\n",
        "else:\n",
        "    print(json.dumps(response,indent=4))\n"
      ]
    },
    {
      "cell_type": "markdown",
      "metadata": {
        "id": "roqkiz_rQL9w"
      },
      "source": [
        "We're interested in getting to something that might be the Air Quality Index (AQI). You see this reported on the news - often around smog values, but also when there is smoke in the sky. The AQI is a complex measure of different gasses and of the particles in the air (dust, dirt, ash ...).\n",
        "\n",
        "From the list produced by our 'list/Classes' request above, it looks like there is a class of sensors called \"AQI POLLUTANTS\". Let's try to get a list of those specific sensors and see what we can get from those.\n"
      ]
    },
    {
      "cell_type": "code",
      "execution_count": 8,
      "metadata": {
        "id": "LAk_SmIOQL9x"
      },
      "outputs": [],
      "source": [
        "#\n",
        "#   Once we have a list of the classes or groups of possible sensors, we can find the sensor IDs that make up that class (group)\n",
        "#   The one that looks to be associated with the Air Quality Index is \"AQI POLLUTANTS\"\n",
        "#   We'll use that to make another list request.\n",
        "#\n",
        "AQI_PARAM_CLASS = \"AQI POLLUTANTS\"\n"
      ]
    },
    {
      "cell_type": "code",
      "execution_count": 9,
      "metadata": {
        "collapsed": true,
        "jupyter": {
          "outputs_hidden": true
        },
        "id": "vsTKEdjPQL9x",
        "outputId": "ec67c28c-78a4-45c1-b89b-6aa352c236cc",
        "colab": {
          "base_uri": "https://localhost:8080/"
        }
      },
      "outputs": [
        {
          "output_type": "stream",
          "name": "stdout",
          "text": [
            "{\n",
            "    \"Header\": [\n",
            "        {\n",
            "            \"status\": \"Failed\",\n",
            "            \"request_time\": \"2023-11-09T03:00:50.527-05:00\",\n",
            "            \"url\": \"https://aqs.epa.gov/data/api/list/parametersByClass?email=vriteshg@uw.edu&key=xxx&pc=AQI%20POLLUTANTS\",\n",
            "            \"error\": [\n",
            "                \"Email and/or key are invalid.\"\n",
            "            ]\n",
            "        }\n",
            "    ]\n",
            "}\n"
          ]
        }
      ],
      "source": [
        "#\n",
        "#   Structure a request to get the sensor IDs associated with the AQI\n",
        "#\n",
        "request_data = AQS_REQUEST_TEMPLATE.copy()\n",
        "request_data['email'] = USERNAME\n",
        "request_data['key'] = APIKEY\n",
        "request_data['pclass'] = AQI_PARAM_CLASS  # here we specify that we want this 'pclass' or parameter classs\n",
        "\n",
        "response = request_list_info(request_template=request_data, endpoint_action=API_ACTION_LIST_PARAMS)\n",
        "\n",
        "if response[\"Header\"][0]['status'] == \"Success\":\n",
        "    print(json.dumps(response['Data'],indent=4))\n",
        "else:\n",
        "    print(json.dumps(response,indent=4))\n"
      ]
    },
    {
      "cell_type": "markdown",
      "metadata": {
        "id": "FhJqDgdiQL9x"
      },
      "source": [
        "We should now have (above) a response containing a set of sensor ID numbers. The list should include the sensor numbers as well as a description or name for each sensor.\n",
        "\n",
        "The EPA AQS API has limits on some call parameters. Specifically, when we request data for sensors we can only specify a maximum of 5 different sensor values to return. This means we cannot get all of the Air Quality Index parameters in one request for data. We have to break it up.\n",
        "\n",
        "What I did below was to break the request into two logical groups, the AQI sensors that sample gasses and the AQI sensors that sample particles in the air."
      ]
    },
    {
      "cell_type": "code",
      "execution_count": 10,
      "metadata": {
        "id": "_NL0eM9xQL9x"
      },
      "outputs": [],
      "source": [
        "#\n",
        "#   Given the set of sensor codes, now we can create a parameter list or 'param' value as defined by the AQS API spec.\n",
        "#   It turns out that we want all of these measures for AQI, but we need to have two different param constants to get\n",
        "#   all seven of the code types. We can only have a max of 5 sensors/values request per param.\n",
        "#\n",
        "#   Gaseous AQI pollutants CO, SO2, NO2, and O2\n",
        "AQI_PARAMS_GASEOUS = \"42101,42401,42602,44201\"\n",
        "#\n",
        "#   Particulate AQI pollutants PM10, PM2.5, and Acceptable PM2.5\n",
        "AQI_PARAMS_PARTICULATES = \"81102,88101,88502\"\n",
        "#\n",
        "#"
      ]
    },
    {
      "cell_type": "markdown",
      "metadata": {
        "id": "3K8kVE9cQL9x"
      },
      "source": [
        "Air quality monitoring stations are located all over the US at different locations. We will need some sample locations to experiment with different locations to see what kinds of values come back from different sensor requests.\n",
        "\n",
        "This list includes the [FIPS](https://www.census.gov/library/reference/code-lists/ansi.html) number for the state and county as a 5 digit string. This format, the 5 digit string, is a 'old' format that is still widely used. There are new codes that may eventually be adopted for the US government information systems. But FIPS is currently what the AQS uses, so that's what is in the list as the constant.\n",
        "\n",
        "Now I will mention the details of the city of interest for me- Klamath Falls"
      ]
    },
    {
      "cell_type": "code",
      "execution_count": 11,
      "metadata": {
        "id": "ZZW2MZiAQL9y"
      },
      "outputs": [],
      "source": [
        "#\n",
        "# Data about Klamath Falls\n",
        "#\n",
        "CITY_LOCATIONS = {\n",
        "    'klamath' :       {'city'   : 'Klamath Falls',\n",
        "                       'county' : 'Klamath',\n",
        "                       'state'  : 'Oregon',\n",
        "                       'fips'   : '41397',\n",
        "                       'latlon' : [42.224869,-121.781670]}\n",
        "}\n"
      ]
    },
    {
      "cell_type": "markdown",
      "metadata": {
        "id": "uZYG2nNPQL9y"
      },
      "source": [
        "Given our CITY_LOCATIONS constant we can now find which monitoring locations are nearby. One option is to use the county to define the area we're interest in. You can get the EPA to list their monitoring stations by county. You can also get a set of monitoring stations by using a bounding box of latitude, longitude points. For this example, we'll use the county approach. There is a bounding box example later in this notebook."
      ]
    },
    {
      "cell_type": "code",
      "execution_count": 12,
      "metadata": {
        "collapsed": true,
        "jupyter": {
          "outputs_hidden": true
        },
        "id": "96XF1baoQL9y",
        "outputId": "cab79cc8-454c-4edb-9440-97a09087d1c8",
        "colab": {
          "base_uri": "https://localhost:8080/"
        }
      },
      "outputs": [
        {
          "output_type": "stream",
          "name": "stdout",
          "text": [
            "{\n",
            "    \"Header\": [\n",
            "        {\n",
            "            \"status\": \"Failed\",\n",
            "            \"request_time\": \"2023-11-09T03:00:50.976-05:00\",\n",
            "            \"url\": \"https://aqs.epa.gov/data/api/list/sitesByCounty?email=vriteshg@uw.edu&key=xxx&state=41&county=397\",\n",
            "            \"error\": [\n",
            "                \"Email and/or key are invalid.\"\n",
            "            ]\n",
            "        }\n",
            "    ]\n",
            "}\n"
          ]
        }
      ],
      "source": [
        "#\n",
        "#  This list request should give us a list of all the monitoring stations in the county specified by the\n",
        "#  given city selected from the CITY_LOCATIONS dictionary\n",
        "#\n",
        "request_data = AQS_REQUEST_TEMPLATE.copy()\n",
        "request_data['email'] = USERNAME\n",
        "request_data['key'] = APIKEY\n",
        "request_data['state'] = CITY_LOCATIONS['klamath']['fips'][:2]   # the first two digits (characters) of FIPS is the state code\n",
        "request_data['county'] = CITY_LOCATIONS['klamath']['fips'][2:]  # the last three digits (characters) of FIPS is the county code\n",
        "\n",
        "response = request_list_info(request_template=request_data, endpoint_action=API_ACTION_LIST_SITES)\n",
        "\n",
        "if response[\"Header\"][0]['status'] == \"Success\":\n",
        "    print(json.dumps(response['Data'],indent=4))\n",
        "else:\n",
        "    print(json.dumps(response,indent=4))\n"
      ]
    },
    {
      "cell_type": "markdown",
      "metadata": {
        "id": "0BE75dKaQL9y"
      },
      "source": [
        "\n",
        "The above response gives us a list of monitoring stations. Each monitoring station has a unique \"code\" which is a string number, and, sometimes, a description. The description seems to be something about where the monitoring station is located.\n"
      ]
    },
    {
      "cell_type": "markdown",
      "metadata": {
        "id": "QNSCi_k2QL9y"
      },
      "source": [
        "## 3. Making a daily summary request\n",
        "\n",
        "The function below is designed to encapsulate requests to the EPA AQS API. When calling the function one should create/copy a parameter template, then initialize that template with values that won't change with each call. Then on each call simply pass in the parameters that need to change, like date ranges.\n",
        "\n",
        "Another function below provides an example of extracting values and restructuring the response to make it a little more usable."
      ]
    },
    {
      "cell_type": "code",
      "execution_count": 13,
      "metadata": {
        "id": "wC0VCDbMQL9y"
      },
      "outputs": [],
      "source": [
        "#\n",
        "#    This implements the daily summary request. Daily summary provides a daily summary value for each sensor being requested\n",
        "#    from the start date to the end date.\n",
        "#\n",
        "#    Like the two other functions, this can be called with a mixture of a defined parameter dictionary, or with function\n",
        "#    parameters. If function parameters are provided, those take precedence over any parameters from the request template.\n",
        "#\n",
        "def request_daily_summary(email_address = None, key = None, param=None,\n",
        "                          begin_date = None, end_date = None, fips = None,\n",
        "                          endpoint_url = API_REQUEST_URL,\n",
        "                          endpoint_action = API_ACTION_DAILY_SUMMARY_COUNTY,\n",
        "                          request_template = AQS_REQUEST_TEMPLATE,\n",
        "                          headers = None):\n",
        "\n",
        "    #  This prioritizes the info from the call parameters - not what's already in the template\n",
        "    if email_address:\n",
        "        request_template['email'] = email_address\n",
        "    if key:\n",
        "        request_template['key'] = key\n",
        "    if param:\n",
        "        request_template['param'] = param\n",
        "    if begin_date:\n",
        "        request_template['begin_date'] = begin_date\n",
        "    if end_date:\n",
        "        request_template['end_date'] = end_date\n",
        "    if fips and len(fips)==5:\n",
        "        request_template['state'] = fips[:2]\n",
        "        request_template['county'] = fips[2:]\n",
        "\n",
        "    # Make sure there are values that allow us to make a call - these are always required\n",
        "    if not request_template['email']:\n",
        "        raise Exception(\"Must supply an email address to call 'request_daily_summary()'\")\n",
        "    if not request_template['key']:\n",
        "        raise Exception(\"Must supply a key to call 'request_daily_summary()'\")\n",
        "    if not request_template['param']:\n",
        "        raise Exception(\"Must supply param values to call 'request_daily_summary()'\")\n",
        "    if not request_template['begin_date']:\n",
        "        raise Exception(\"Must supply a begin_date to call 'request_daily_summary()'\")\n",
        "    if not request_template['end_date']:\n",
        "        raise Exception(\"Must supply an end_date to call 'request_daily_summary()'\")\n",
        "    # Note we're not validating FIPS fields because not all of the daily summary actions require the FIPS numbers\n",
        "\n",
        "    # compose the request\n",
        "    request_url = endpoint_url+endpoint_action.format(**request_template)\n",
        "\n",
        "    # make the request\n",
        "    try:\n",
        "        # Wait first, to make sure we don't exceed a rate limit in the situation where an exception occurs\n",
        "        # during the request processing - throttling is always a good practice with a free data source\n",
        "        if API_THROTTLE_WAIT > 0.0:\n",
        "            time.sleep(API_THROTTLE_WAIT)\n",
        "        response = requests.get(request_url, headers=headers)\n",
        "        json_response = response.json()\n",
        "    except Exception as e:\n",
        "        print(e)\n",
        "        json_response = None\n",
        "    return json_response\n"
      ]
    },
    {
      "cell_type": "code",
      "execution_count": 14,
      "metadata": {
        "collapsed": true,
        "jupyter": {
          "outputs_hidden": true
        },
        "tags": [],
        "id": "N44Ci_IHQL9z",
        "outputId": "6a1ad204-a9b4-4e63-b6ce-09d0f9f8dabb",
        "colab": {
          "base_uri": "https://localhost:8080/"
        }
      },
      "outputs": [
        {
          "output_type": "stream",
          "name": "stdout",
          "text": [
            "Response for the gaseous pollutants ...\n",
            "{\n",
            "    \"Header\": [\n",
            "        {\n",
            "            \"status\": \"Failed\",\n",
            "            \"request_time\": \"2023-11-09T03:00:51.571-05:00\",\n",
            "            \"url\": \"https://aqs.epa.gov/data/api/dailyData/byCounty?email=vriteshg@uw.edu&key=xxx&param=42101,42401,42602,44201&bdate=20210701&edate=20210731&state=41&county=397\",\n",
            "            \"error\": [\n",
            "                \"Email and/or key are invalid.\"\n",
            "            ]\n",
            "        }\n",
            "    ]\n",
            "}\n",
            "Response for the particulate pollutants ...\n",
            "{\n",
            "    \"Header\": [\n",
            "        {\n",
            "            \"status\": \"Failed\",\n",
            "            \"request_time\": \"2023-11-09T03:00:52.086-05:00\",\n",
            "            \"url\": \"https://aqs.epa.gov/data/api/dailyData/byCounty?email=vriteshg@uw.edu&key=xxx&param=81102,88101,88502&bdate=20210701&edate=20210731&state=41&county=397\",\n",
            "            \"error\": [\n",
            "                \"Email and/or key are invalid.\"\n",
            "            ]\n",
            "        }\n",
            "    ]\n",
            "}\n"
          ]
        }
      ],
      "source": [
        "\n",
        "request_data = AQS_REQUEST_TEMPLATE.copy()\n",
        "request_data['email'] = USERNAME\n",
        "request_data['key'] = APIKEY\n",
        "request_data['param'] = AQI_PARAMS_GASEOUS\n",
        "request_data['state'] = CITY_LOCATIONS['klamath']['fips'][:2]\n",
        "request_data['county'] = CITY_LOCATIONS['klamath']['fips'][2:]\n",
        "\n",
        "# request daily summary data for the month of July in 2021\n",
        "gaseous_aqi = request_daily_summary(request_template=request_data, begin_date=\"20210701\", end_date=\"20210731\")\n",
        "print(\"Response for the gaseous pollutants ...\")\n",
        "#\n",
        "if gaseous_aqi[\"Header\"][0]['status'] == \"Success\":\n",
        "    print(json.dumps(gaseous_aqi['Data'],indent=4))\n",
        "elif gaseous_aqi[\"Header\"][0]['status'].startswith(\"No data \"):\n",
        "    print(\"Looks like the response generated no data. You might take a closer look at your request and the response data.\")\n",
        "else:\n",
        "    print(json.dumps(gaseous_aqi,indent=4))\n",
        "\n",
        "request_data['param'] = AQI_PARAMS_PARTICULATES\n",
        "# request daily summary data for the month of July in 2021\n",
        "particulate_aqi = request_daily_summary(request_template=request_data, begin_date=\"20210701\", end_date=\"20210731\")\n",
        "print(\"Response for the particulate pollutants ...\")\n",
        "#\n",
        "if particulate_aqi[\"Header\"][0]['status'] == \"Success\":\n",
        "    print(json.dumps(particulate_aqi['Data'],indent=4))\n",
        "elif particulate_aqi[\"Header\"][0]['status'].startswith(\"No data \"):\n",
        "    print(\"Looks like the response generated no data. You might take a closer look at your request and the response data.\")\n",
        "else:\n",
        "    print(json.dumps(particulate_aqi,indent=4))\n"
      ]
    },
    {
      "cell_type": "markdown",
      "metadata": {
        "id": "SCaIVu4YQL9z"
      },
      "source": [
        "The form of the daily summary response is a bit verbose with lots of repeated values. What we'll do is create a data structure that relies on a hierarchical context to summarize the data.\n",
        "\n",
        "The two responses (for Klamath Falls, OR) show that not every monitoring site produces values. As well, it looks like the monitoring sites only produce values for particulates and not for gaseous pollutants.\n",
        "\n",
        "The next function takes the response and a set of fields that should be extracted for their data values. The code assumes those fields are available. If there are missing values something could certainly go wrong. The function creates a summary for each monitoring site."
      ]
    },
    {
      "cell_type": "code",
      "execution_count": 15,
      "metadata": {
        "id": "sO3ulnGcQL9z"
      },
      "outputs": [],
      "source": [
        "#\n",
        "#    This is a list of field names - data - that will be extracted from each record\n",
        "#\n",
        "EXTRACTION_FIELDS = ['sample_duration','observation_count','arithmetic_mean','aqi']\n",
        "\n",
        "#\n",
        "#    The function creates a summary record\n",
        "def extract_summary_from_response(r=None, fields=EXTRACTION_FIELDS):\n",
        "    ## the result will be structured around monitoring site, parameter, and then date\n",
        "    result = dict()\n",
        "    data = r[\"Data\"]\n",
        "    for record in data:\n",
        "        # make sure the record is set up\n",
        "        site = record['site_number']\n",
        "        param = record['parameter_code']\n",
        "        #date = record['date_local']    # this version keeps the respnse value YYYY-\n",
        "        date = record['date_local'].replace('-','') # this puts it in YYYYMMDD format\n",
        "        if site not in result:\n",
        "            result[site] = dict()\n",
        "            result[site]['local_site_name'] = record['local_site_name']\n",
        "            result[site]['site_address'] = record['site_address']\n",
        "            result[site]['state'] = record['state']\n",
        "            result[site]['county'] = record['county']\n",
        "            result[site]['city'] = record['city']\n",
        "            result[site]['pollutant_type'] = dict()\n",
        "        if param not in result[site]['pollutant_type']:\n",
        "            result[site]['pollutant_type'][param] = dict()\n",
        "            result[site]['pollutant_type'][param]['parameter_name'] = record['parameter']\n",
        "            result[site]['pollutant_type'][param]['units_of_measure'] = record['units_of_measure']\n",
        "            result[site]['pollutant_type'][param]['method'] = record['method']\n",
        "            result[site]['pollutant_type'][param]['data'] = dict()\n",
        "        if date not in result[site]['pollutant_type'][param]['data']:\n",
        "            result[site]['pollutant_type'][param]['data'][date] = list()\n",
        "\n",
        "        # now extract the specified fields\n",
        "        extract = dict()\n",
        "        for k in fields:\n",
        "            if str(k) in record:\n",
        "                extract[str(k)] = record[k]\n",
        "            else:\n",
        "                # this makes sure we always have the requested fields, even if\n",
        "                # we have a missing value for a given day/month\n",
        "                extract[str(k)] = None\n",
        "\n",
        "        # add this extraction to the list for the day\n",
        "        result[site]['pollutant_type'][param]['data'][date].append(extract)\n",
        "\n",
        "    return result\n"
      ]
    },
    {
      "cell_type": "markdown",
      "metadata": {
        "id": "USt0stzFQL9z"
      },
      "source": [
        "## 4. Making request by bounding box\n",
        "\n",
        "There are some places that don't have monitoring stations. In the EPA FAQ that covers the AQS system, they note that their monitoring covers 2000 of the 3000+ US counties.\n",
        "\n",
        "The AQS API has a mechanism of requesting data and monitoring stations using a geographic bounding box. The above examples just demonstrated the use of the AQS API for making requests by counties. The examples below illustrate the use of bounding boxes. The example below makes requests to identify monitoring stations within the bounding box. Once you knew you have monitoring stations, then the bounding box could be used in the daily summary requests to get AQS data.\n"
      ]
    },
    {
      "cell_type": "code",
      "execution_count": 16,
      "metadata": {
        "id": "BO-aC3U9QL9z"
      },
      "outputs": [],
      "source": [
        "#\n",
        "#   These are rough estimates for creating bounding boxes based on a city location\n",
        "#   You can find these rough estimates on the USGS website:\n",
        "#   https://www.usgs.gov/faqs/how-much-distance-does-a-degree-minute-and-second-cover-your-maps\n",
        "#\n",
        "LAT_25MILES = 25.0 * (1.0/69.0)    # This is about 25 miles of latitude in decimal degrees\n",
        "LON_25MILES = 25.0 * (1.0/54.6)    # This is about 25 miles of longitude in decimal degrees\n",
        "#\n",
        "#   Compute a rough estimates for a bounding box around a given place\n",
        "#   The bounding box is scaled in 50 mile increments. That is the bounding box will have sides that\n",
        "#   are rough multiples of 50 miles, with the center of the box around the indicated place.\n",
        "#   The scale parameter determines the scale (size) of the bounding box\n",
        "#\n",
        "def bounding_latlon(place=None,scale=1.0):\n",
        "    minlat = place['latlon'][0] - float(scale) * LAT_25MILES\n",
        "    maxlat = place['latlon'][0] + float(scale) * LAT_25MILES\n",
        "    minlon = place['latlon'][1] - float(scale) * LON_25MILES\n",
        "    maxlon = place['latlon'][1] + float(scale) * LON_25MILES\n",
        "    return [minlat,maxlat,minlon,maxlon]\n",
        "\n"
      ]
    },
    {
      "cell_type": "code",
      "execution_count": 17,
      "metadata": {
        "id": "F_THpjU0QL9z"
      },
      "outputs": [],
      "source": [
        "#\n",
        "#    This implements the monitors request. This requests monitoring stations. This can be done by state, county, or bounding box.\n",
        "#\n",
        "#    Like the two other functions, this can be called with a mixture of a defined parameter dictionary, or with function\n",
        "#    parameters. If function parameters are provided, those take precedence over any parameters from the request template.\n",
        "#\n",
        "def request_monitors(email_address = None, key = None, param=None,\n",
        "                          begin_date = None, end_date = None, fips = None,\n",
        "                          endpoint_url = API_REQUEST_URL,\n",
        "                          endpoint_action = API_ACTION_MONITORS_COUNTY,\n",
        "                          request_template = AQS_REQUEST_TEMPLATE,\n",
        "                          headers = None):\n",
        "\n",
        "    #  This prioritizes the info from the call parameters - not what's already in the template\n",
        "    if email_address:\n",
        "        request_template['email'] = email_address\n",
        "    if key:\n",
        "        request_template['key'] = key\n",
        "    if param:\n",
        "        request_template['param'] = param\n",
        "    if begin_date:\n",
        "        request_template['begin_date'] = begin_date\n",
        "    if end_date:\n",
        "        request_template['end_date'] = end_date\n",
        "    if fips and len(fips)==5:\n",
        "        request_template['state'] = fips[:2]\n",
        "        request_template['county'] = fips[2:]\n",
        "\n",
        "    # Make sure there are values that allow us to make a call - these are always required\n",
        "    if not request_template['email']:\n",
        "        raise Exception(\"Must supply an email address to call 'request_monitors()'\")\n",
        "    if not request_template['key']:\n",
        "        raise Exception(\"Must supply a key to call 'request_monitors()'\")\n",
        "    if not request_template['param']:\n",
        "        raise Exception(\"Must supply param values to call 'request_monitors()'\")\n",
        "    if not request_template['begin_date']:\n",
        "        raise Exception(\"Must supply a begin_date to call 'request_monitors()'\")\n",
        "    if not request_template['end_date']:\n",
        "        raise Exception(\"Must supply an end_date to call 'request_monitors()'\")\n",
        "    # Note we're not validating FIPS fields because not all of the monitors actions require the FIPS numbers\n",
        "\n",
        "    # compose the request\n",
        "    request_url = endpoint_url+endpoint_action.format(**request_template)\n",
        "\n",
        "    # make the request\n",
        "    try:\n",
        "        # Wait first, to make sure we don't exceed a rate limit in the situation where an exception occurs\n",
        "        # during the request processing - throttling is always a good practice with a free data source\n",
        "        if API_THROTTLE_WAIT > 0.0:\n",
        "            time.sleep(API_THROTTLE_WAIT)\n",
        "        response = requests.get(request_url, headers=headers)\n",
        "        json_response = response.json()\n",
        "    except Exception as e:\n",
        "        print(e)\n",
        "        json_response = None\n",
        "    return json_response\n"
      ]
    },
    {
      "cell_type": "code",
      "execution_count": 18,
      "metadata": {
        "collapsed": true,
        "jupyter": {
          "outputs_hidden": true
        },
        "id": "G9bN1S17QL9z",
        "outputId": "b9109c06-dc6f-4f45-9005-79cba5f94f1c",
        "colab": {
          "base_uri": "https://localhost:8080/"
        }
      },
      "outputs": [
        {
          "output_type": "stream",
          "name": "stdout",
          "text": [
            "{\n",
            "    \"Header\": [\n",
            "        {\n",
            "            \"status\": \"Failed\",\n",
            "            \"request_time\": \"2023-11-09T03:00:52.689-05:00\",\n",
            "            \"url\": \"https://aqs.epa.gov/data/api/monitors/byCounty?email=vriteshg@uw.edu&key=xxx&param=81102,88101,88502&bdate=20210701&edate=20210731&state=41&county=397\",\n",
            "            \"error\": [\n",
            "                \"Email and/or key are invalid.\"\n",
            "            ]\n",
            "        }\n",
            "    ]\n",
            "}\n"
          ]
        }
      ],
      "source": [
        "#\n",
        "request_data = AQS_REQUEST_TEMPLATE.copy()\n",
        "request_data['email'] = USERNAME\n",
        "request_data['key'] = APIKEY\n",
        "request_data['param'] = AQI_PARAMS_PARTICULATES     # remember we have both gaseous and particulates\n",
        "#\n",
        "#   We got the monitoring stations for Bend OR above (Deschutes county) - let's work with that one again\n",
        "request_data['state'] = CITY_LOCATIONS['klamath']['fips'][:2]\n",
        "request_data['county'] = CITY_LOCATIONS['klamath']['fips'][2:]\n",
        "#\n",
        "# the first example uses the default - request monitors by county, we'll just use a recent date for now\n",
        "response = request_monitors(request_template=request_data, begin_date=\"20210701\", end_date=\"20210731\")\n",
        "#\n",
        "# the response should be similar to the 'list' request above - but in this case we should only get monitors that\n",
        "# monitor the AQI_PARAMS_PARTICULATES set of params.\n",
        "#\n",
        "if response[\"Header\"][0]['status'] == \"Success\":\n",
        "    print(json.dumps(response['Data'],indent=4))\n",
        "else:\n",
        "    print(json.dumps(response,indent=4))\n"
      ]
    },
    {
      "cell_type": "markdown",
      "metadata": {
        "id": "B3nKdbcZQL90"
      },
      "source": [
        "\n",
        "Next, we're going to change the monitors request to use a bounding box and see what happens.\n"
      ]
    },
    {
      "cell_type": "code",
      "execution_count": 19,
      "metadata": {
        "collapsed": true,
        "jupyter": {
          "outputs_hidden": true
        },
        "id": "5kTRMihhQL90",
        "outputId": "b8cfe3b0-e748-410a-c866-06b966c036b2",
        "colab": {
          "base_uri": "https://localhost:8080/"
        }
      },
      "outputs": [
        {
          "output_type": "stream",
          "name": "stdout",
          "text": [
            "{\n",
            "    \"Header\": [\n",
            "        {\n",
            "            \"status\": \"Failed\",\n",
            "            \"request_time\": \"2023-11-09T03:00:53.241-05:00\",\n",
            "            \"url\": \"https://aqs.epa.gov/data/api/monitors/byBox?email=vriteshg@uw.edu&key=xxx&param=81102,88101,88502&bdate=19630101&edate=20231231&minlat=41.86255015942029&maxlat=42.58718784057971&minlon=-122.23954545787547&maxlon=-121.32379454212455\",\n",
            "            \"error\": [\n",
            "                \"Email and/or key are invalid.\"\n",
            "            ]\n",
            "        }\n",
            "    ]\n",
            "}\n"
          ]
        }
      ],
      "source": [
        "#\n",
        "#    Create a copy of the AQS_REQUEST_TEMPLATE\n",
        "#\n",
        "request_data = AQS_REQUEST_TEMPLATE.copy()\n",
        "request_data['email'] = USERNAME\n",
        "request_data['key'] = APIKEY\n",
        "request_data['param'] = AQI_PARAMS_PARTICULATES     # same particulate request as the one abover\n",
        "#\n",
        "#   Not going to use these - comment them out\n",
        "#request_data['state'] = CITY_LOCATIONS['bend']['fips'][:2]\n",
        "#request_data['county'] = CITY_LOCATIONS['bend']['fips'][2:]\n",
        "#\n",
        "#   Now, we need bounding box parameters\n",
        "\n",
        "#   50 mile box\n",
        "bbox = bounding_latlon(CITY_LOCATIONS['klamath'],scale=1.0)\n",
        "\n",
        "#   put our bounding box into the request_data\n",
        "request_data['minlat'] = bbox[0]\n",
        "request_data['maxlat'] = bbox[1]\n",
        "request_data['minlon'] = bbox[2]\n",
        "request_data['maxlon'] = bbox[3]\n",
        "\n",
        "#\n",
        "#   we need to change the action for the API from the default to the bounding box - same recent date for now\n",
        "response = request_monitors(request_template=request_data, begin_date=\"19630101\", end_date=\"20231231\",\n",
        "                            endpoint_action = API_ACTION_MONITORS_BOX)\n",
        "#\n",
        "#\n",
        "#\n",
        "if response[\"Header\"][0]['status'] == \"Success\":\n",
        "    print(json.dumps(response['Data'],indent=4))\n",
        "else:\n",
        "    print(json.dumps(response,indent=4))\n"
      ]
    },
    {
      "cell_type": "markdown",
      "metadata": {
        "id": "u6WddogcQL90"
      },
      "source": [
        "From this call we could locate 2 stations which were able to cover the AQI data starting from 1986 all the way to the present. Both of these stations had the FIPS code as 41035, which is super close to our city."
      ]
    },
    {
      "cell_type": "code",
      "source": [
        "#Now let is declare a dictionary which has the years as the keys and the station number of the station having\n",
        "# the AQI data as values\n",
        "stations_dict = {\n",
        "    '1986': '41035',\n",
        "    '1987': '41035',\n",
        "    '1988': '41035',\n",
        "    '1989': '41035',\n",
        "    '1990': '41035',\n",
        "    '1991': '41035',\n",
        "    '1992': '41035',\n",
        "    '1993': '41035',\n",
        "    '1994': '41035',\n",
        "    '1995': '41035',\n",
        "    '1996': '41035',\n",
        "    '1997': '41035',\n",
        "    '1998': '41035',\n",
        "    '1999': '41035',\n",
        "    '2000': '41035',\n",
        "    '2001': '41035',\n",
        "    '2002': '41035',\n",
        "    '2003': '41035',\n",
        "    '2004': '41035',\n",
        "    '2005': '41035',\n",
        "    '2006': '41035',\n",
        "    '2007': '41035',\n",
        "    '2008': '41035',\n",
        "    '2009': '41035',\n",
        "    '2010': '41035',\n",
        "    '2011': '41035',\n",
        "    '2012': '41035',\n",
        "    '2013': '41035',\n",
        "    '2014': '41035',\n",
        "    '2015': '41035',\n",
        "    '2016': '41035',\n",
        "    '2017': '41035',\n",
        "    '2018': '41035',\n",
        "    '2019': '41035',\n",
        "    '2020': '41035',\n",
        "    '2021': '41035',\n",
        "    '2022': '41035',\n",
        "    '2023': '41035'\n",
        "}"
      ],
      "metadata": {
        "id": "fXJdD2HFZhei"
      },
      "execution_count": 20,
      "outputs": []
    },
    {
      "cell_type": "code",
      "source": [
        "#Now we will call the API and collect the data year by year and average it out for each\n",
        "# year so that we get a single value for every year\n",
        "import numpy as np\n",
        "\n",
        "aqi_year = {}\n",
        "for year, station in stations_dict.items():\n",
        "    request_data = AQS_REQUEST_TEMPLATE.copy()\n",
        "    request_data['email'] = USERNAME\n",
        "    request_data['key'] = APIKEY\n",
        "    request_data['param'] = AQI_PARAMS_PARTICULATES\n",
        "    request_data['state'] = station[:2]\n",
        "    request_data['county'] = station[2:]\n",
        "    begin_date = year + '0101'\n",
        "    end_date = year + '1231'\n",
        "\n",
        "    particulate_aqi = request_daily_summary(request_template=request_data, begin_date=begin_date, end_date=end_date)\n",
        "\n",
        "    aqi_list = []\n",
        "    if particulate_aqi[\"Header\"][0]['status'] == \"Success\":\n",
        "        for i in range(len(particulate_aqi['Data'])):\n",
        "            if particulate_aqi['Data'][i]['aqi'] is not None:\n",
        "                aqi_list.append(particulate_aqi['Data'][i]['aqi'])\n",
        "        avg_aqi = np.mean(aqi_list)\n",
        "        aqi_year[year] = avg_aqi\n",
        "    elif particulate_aqi[\"Header\"][0]['status'].startswith(\"No data \"):\n",
        "        print(\"There is no data\")"
      ],
      "metadata": {
        "id": "NTd-zSXmZacO"
      },
      "execution_count": 21,
      "outputs": []
    },
    {
      "cell_type": "code",
      "source": [
        "aqi_year"
      ],
      "metadata": {
        "id": "hS93NN23OOf_",
        "outputId": "e1620c2c-540d-4801-d9a8-767071e57bff",
        "colab": {
          "base_uri": "https://localhost:8080/"
        }
      },
      "execution_count": 22,
      "outputs": [
        {
          "output_type": "execute_result",
          "data": {
            "text/plain": [
              "{}"
            ]
          },
          "metadata": {},
          "execution_count": 22
        }
      ]
    },
    {
      "cell_type": "code",
      "source": [
        "#Now we will write this final dictionary to the local system\n",
        "file_path = 'aqi_list.json'\n",
        "\n",
        "# Write the dictionary to a JSON file\n",
        "with open(file_path, 'w') as file:\n",
        "    json.dump(aqi_year, file, indent=4)"
      ],
      "metadata": {
        "id": "5i-MzqYmTdcu"
      },
      "execution_count": 23,
      "outputs": []
    }
  ],
  "metadata": {
    "kernelspec": {
      "display_name": "Python 3 (ipykernel)",
      "language": "python",
      "name": "python3"
    },
    "language_info": {
      "codemirror_mode": {
        "name": "ipython",
        "version": 3
      },
      "file_extension": ".py",
      "mimetype": "text/x-python",
      "name": "python",
      "nbconvert_exporter": "python",
      "pygments_lexer": "ipython3",
      "version": "3.9.6"
    },
    "colab": {
      "provenance": []
    }
  },
  "nbformat": 4,
  "nbformat_minor": 0
}